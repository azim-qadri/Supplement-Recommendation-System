{
 "cells": [
  {
   "cell_type": "code",
   "execution_count": 18,
   "metadata": {},
   "outputs": [],
   "source": [
    "import pandas as pd\n"
   ]
  },
  {
   "cell_type": "code",
   "execution_count": 19,
   "metadata": {},
   "outputs": [],
   "source": [
    "# Load the dataset\n",
    "file_path = 'ingredient Information.XPT'  # Replace with your file path\n",
    "dataset = pd.read_sas(file_path)"
   ]
  },
  {
   "cell_type": "code",
   "execution_count": 20,
   "metadata": {},
   "outputs": [
    {
     "data": {
      "text/html": [
       "<div>\n",
       "<style scoped>\n",
       "    .dataframe tbody tr th:only-of-type {\n",
       "        vertical-align: middle;\n",
       "    }\n",
       "\n",
       "    .dataframe tbody tr th {\n",
       "        vertical-align: top;\n",
       "    }\n",
       "\n",
       "    .dataframe thead th {\n",
       "        text-align: right;\n",
       "    }\n",
       "</style>\n",
       "<table border=\"1\" class=\"dataframe\">\n",
       "  <thead>\n",
       "    <tr style=\"text-align: right;\">\n",
       "      <th></th>\n",
       "      <th>DSDPID</th>\n",
       "      <th>DSDSUPP</th>\n",
       "      <th>DSDIID</th>\n",
       "      <th>DSDINGR</th>\n",
       "      <th>DSDOPER</th>\n",
       "      <th>DSDQTY</th>\n",
       "      <th>DSDUNIT</th>\n",
       "      <th>DSDCAT</th>\n",
       "      <th>DSDBLFLG</th>\n",
       "      <th>DSDINGID</th>\n",
       "    </tr>\n",
       "  </thead>\n",
       "  <tbody>\n",
       "    <tr>\n",
       "      <th>0</th>\n",
       "      <td>1.0</td>\n",
       "      <td>b'MYADEC HIGH POTENCY MULTIVITAMIN-MULTIMINERA...</td>\n",
       "      <td>35.0</td>\n",
       "      <td>b'BIOTIN'</td>\n",
       "      <td>b'='</td>\n",
       "      <td>30.0</td>\n",
       "      <td>4.0</td>\n",
       "      <td>1.0</td>\n",
       "      <td>2.0</td>\n",
       "      <td>b'10000042'</td>\n",
       "    </tr>\n",
       "    <tr>\n",
       "      <th>1</th>\n",
       "      <td>1.0</td>\n",
       "      <td>b'MYADEC HIGH POTENCY MULTIVITAMIN-MULTIMINERA...</td>\n",
       "      <td>45.0</td>\n",
       "      <td>b'BORON'</td>\n",
       "      <td>b'='</td>\n",
       "      <td>150.0</td>\n",
       "      <td>4.0</td>\n",
       "      <td>2.0</td>\n",
       "      <td>2.0</td>\n",
       "      <td>b'10000052'</td>\n",
       "    </tr>\n",
       "    <tr>\n",
       "      <th>2</th>\n",
       "      <td>1.0</td>\n",
       "      <td>b'MYADEC HIGH POTENCY MULTIVITAMIN-MULTIMINERA...</td>\n",
       "      <td>63.0</td>\n",
       "      <td>b'CALCIUM'</td>\n",
       "      <td>b'='</td>\n",
       "      <td>162.0</td>\n",
       "      <td>1.0</td>\n",
       "      <td>2.0</td>\n",
       "      <td>2.0</td>\n",
       "      <td>b'10000070'</td>\n",
       "    </tr>\n",
       "    <tr>\n",
       "      <th>3</th>\n",
       "      <td>1.0</td>\n",
       "      <td>b'MYADEC HIGH POTENCY MULTIVITAMIN-MULTIMINERA...</td>\n",
       "      <td>84.0</td>\n",
       "      <td>b'CHROMIUM'</td>\n",
       "      <td>b'='</td>\n",
       "      <td>25.0</td>\n",
       "      <td>4.0</td>\n",
       "      <td>2.0</td>\n",
       "      <td>2.0</td>\n",
       "      <td>b'10000093'</td>\n",
       "    </tr>\n",
       "    <tr>\n",
       "      <th>4</th>\n",
       "      <td>1.0</td>\n",
       "      <td>b'MYADEC HIGH POTENCY MULTIVITAMIN-MULTIMINERA...</td>\n",
       "      <td>94.0</td>\n",
       "      <td>b'COPPER'</td>\n",
       "      <td>b'='</td>\n",
       "      <td>2.0</td>\n",
       "      <td>1.0</td>\n",
       "      <td>2.0</td>\n",
       "      <td>2.0</td>\n",
       "      <td>b'10000103'</td>\n",
       "    </tr>\n",
       "  </tbody>\n",
       "</table>\n",
       "</div>"
      ],
      "text/plain": [
       "   DSDPID                                            DSDSUPP  DSDIID  \\\n",
       "0     1.0  b'MYADEC HIGH POTENCY MULTIVITAMIN-MULTIMINERA...    35.0   \n",
       "1     1.0  b'MYADEC HIGH POTENCY MULTIVITAMIN-MULTIMINERA...    45.0   \n",
       "2     1.0  b'MYADEC HIGH POTENCY MULTIVITAMIN-MULTIMINERA...    63.0   \n",
       "3     1.0  b'MYADEC HIGH POTENCY MULTIVITAMIN-MULTIMINERA...    84.0   \n",
       "4     1.0  b'MYADEC HIGH POTENCY MULTIVITAMIN-MULTIMINERA...    94.0   \n",
       "\n",
       "       DSDINGR DSDOPER  DSDQTY  DSDUNIT  DSDCAT  DSDBLFLG     DSDINGID  \n",
       "0    b'BIOTIN'    b'='    30.0      4.0     1.0       2.0  b'10000042'  \n",
       "1     b'BORON'    b'='   150.0      4.0     2.0       2.0  b'10000052'  \n",
       "2   b'CALCIUM'    b'='   162.0      1.0     2.0       2.0  b'10000070'  \n",
       "3  b'CHROMIUM'    b'='    25.0      4.0     2.0       2.0  b'10000093'  \n",
       "4    b'COPPER'    b'='     2.0      1.0     2.0       2.0  b'10000103'  "
      ]
     },
     "execution_count": 20,
     "metadata": {},
     "output_type": "execute_result"
    }
   ],
   "source": [
    "dataset.head()"
   ]
  },
  {
   "cell_type": "code",
   "execution_count": 21,
   "metadata": {},
   "outputs": [],
   "source": [
    "#convert byte strings to normal\n",
    "def safe_decode(x):\n",
    "    try:\n",
    "        return x.decode('utf-8') if isinstance(x, bytes) else x\n",
    "    except UnicodeDecodeError:\n",
    "        return x.decode('latin-1') if isinstance(x, bytes) else x\n",
    "\n",
    "\n",
    "\n",
    "# Convert byte strings to regular strings\n",
    "dataset_cleaned = dataset.applymap(safe_decode)\n"
   ]
  },
  {
   "cell_type": "code",
   "execution_count": 22,
   "metadata": {},
   "outputs": [],
   "source": [
    "# Aggregating data by supplements\n",
    "supplement_profiles = dataset_cleaned.groupby('DSDSUPP').apply(\n",
    "    lambda x: dict(zip(x['DSDINGR'], x['DSDQTY']))\n",
    ").reset_index()\n",
    "\n",
    "# Renaming the columns for clarity\n",
    "supplement_profiles.columns = ['Supplement', 'IngredientProfile']"
   ]
  },
  {
   "cell_type": "code",
   "execution_count": 23,
   "metadata": {},
   "outputs": [],
   "source": [
    "# Recommendation function\n",
    "def recommend_supplements(deficiency, supplement_profiles, top_n=5):\n",
    "\n",
    "    # Normalize the deficiency input to match dataset format\n",
    "    deficiency = deficiency.upper()\n",
    "\n",
    "    # Filter supplements containing the deficiency\n",
    "    matched_supplements = supplement_profiles[supplement_profiles['IngredientProfile'].apply(\n",
    "        lambda x: deficiency in x)]\n",
    "\n",
    "    # Extract relevant information for recommendations\n",
    "    recommendations = matched_supplements.apply(\n",
    "        lambda x: (x['Supplement'], x['IngredientProfile'][deficiency]), axis=1)\n",
    "\n",
    "    # Sort by quantity of the deficient ingredient (if needed) and return top N results\n",
    "    recommendations = sorted(recommendations, key=lambda x: x[1], reverse=True)[:top_n]\n",
    "\n",
    "    return recommendations"
   ]
  },
  {
   "cell_type": "code",
   "execution_count": 27,
   "metadata": {},
   "outputs": [
    {
     "name": "stdout",
     "output_type": "stream",
     "text": [
      "[('VITAMIN D 60000 IU', 60000.0), ('VITAMIN D 50000 IU', 50000.0), ('VITAMIN D 25000 IU', 25000.0), ('DEFAULT DIABETIC MULTIVITAMIN / MULTIMINERAL PACK', 20000.0), (\"NATURE'S BOUNTY YOUR LIFE PRESCRIPTIVE FORMULAS MULTIVITAMIN / MULTIMINERAL DIABETES SUPPORT PACKS BALANCED MULTIVITAMIN / MULTIMINERAL ALPHA LIPOIC ACID CINNAMON & CHROMIUM PICOLINATE SELENIUM\", 20000.0)]\n"
     ]
    }
   ],
   "source": [
    "recommendations = recommend_supplements(\"vitamin d\", supplement_profiles)\n",
    "print(recommendations)"
   ]
  },
  {
   "cell_type": "code",
   "execution_count": 28,
   "metadata": {},
   "outputs": [
    {
     "name": "stdout",
     "output_type": "stream",
     "text": [
      "[('100 NATURALS BIOTIN 10,000 MCG ADVANCED FORMULA MAXIMUM STRENGTH', 10000.0), ('BIO NUTRITION HEALTHY HAIR WITH BIOTIN 10,000 PLUS ONCE DAILY', 10000.0), ('BIOTIN 10,000 MCG', 10000.0), ('BIOTIN 10,000 MCG UP&UP', 10000.0), ('BIOTIN PLUS KERATIN BIOTIN 10000 MCG KERATIN 100 MG UP&UP', 10000.0)]\n"
     ]
    }
   ],
   "source": [
    "recommendations = recommend_supplements(\"biotin\", supplement_profiles)\n",
    "print(recommendations)"
   ]
  },
  {
   "cell_type": "code",
   "execution_count": 30,
   "metadata": {},
   "outputs": [
    {
     "name": "stdout",
     "output_type": "stream",
     "text": [
      "[('BERKLEY JENSEN FISH OIL 1200 MG PER SOFTGEL', 360.0)]\n"
     ]
    }
   ],
   "source": [
    "recommendations = recommend_supplements(\"omega-3\", supplement_profiles)\n",
    "print(recommendations)"
   ]
  }
 ],
 "metadata": {
  "kernelspec": {
   "display_name": "Python 3",
   "language": "python",
   "name": "python3"
  },
  "language_info": {
   "codemirror_mode": {
    "name": "ipython",
    "version": 3
   },
   "file_extension": ".py",
   "mimetype": "text/x-python",
   "name": "python",
   "nbconvert_exporter": "python",
   "pygments_lexer": "ipython3",
   "version": "3.11.0"
  }
 },
 "nbformat": 4,
 "nbformat_minor": 2
}
